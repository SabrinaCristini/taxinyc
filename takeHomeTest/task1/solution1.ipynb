{
 "cells": [
  {
   "cell_type": "code",
   "execution_count": null,
   "metadata": {},
   "outputs": [],
   "source": [
    "import pandas as pd\n",
    "from pyspark.sql import *\n",
    "from pyhive import  hive\n",
    "\n",
    "##Creating spark session with hive enabled\n",
    "spark = SparkSession.builder \\\n",
    "            .appName(\"ifood_1\") \\\n",
    "            .config(\"hive.metastore.uris\", \"thrift://service-sab-hive-metastore:31457\") \\\n",
    "            .master('local[*]') \\\n",
    "            .config('spark.jars.ivy', \"/app/.ivy2\") \\\n",
    "            .config(\"spark.driver.maxResultSize\", \"50g\") \\\n",
    "            .config(\"spark.hadoop.fs.s3a.endpoint\", \"http://minio-service:9001\") \\\n",
    "            .config(\"spark.hadoop.fs.s3a.access.key\", \"5FCOJ3tSURKM65xXPnW8\") \\\n",
    "            .config(\"spark.hadoop.fs.s3a.secret.key\", \"cOMprohE5zopGpfV8pXNXpIuQQAHsQsX2bEhL4C2\") \\\n",
    "            .config(\"spark.hadoop.fs.s3a.path.style.access\", \"true\") \\\n",
    "            .config(\"spark.hadoop.fs.s3a.impl\", \"org.apache.hadoop.fs.s3a.S3AFileSystem\") \\\n",
    "            .enableHiveSupport() \\\n",
    "            .getOrCreate()\n",
    "\n",
    "##Reading file from s3a(minio)\n",
    "read_files_taxi = spark.read \\\n",
    "    .format(\"parquet\") \\\n",
    "    .load(\"s3a://ifood-processo-seletivo/files_taxi/*.parquet\")"
   ]
  },
  {
   "cell_type": "code",
   "execution_count": null,
   "metadata": {},
   "outputs": [],
   "source": [
    "##Filtered files\n",
    "selected_columns_taxi = read_files_taxi.select(\n",
    "    \"VendorID\",\n",
    "    \"passenger_count\",\n",
    "    \"total_amount\",\n",
    "    \"tpep_pickup_datetime\",\n",
    "    \"tpep_dropoff_datetime\"\n",
    ")\n",
    "\n",
    "selected_columns_taxi.show()\n",
    "\n",
    "path_to_save = \"s3a://ifod-processo-seletivo/silver/\"\n",
    "\n",
    "##write files on s3a\n",
    "selected_columns_taxi = spark.write \\\n",
    "    .format(\"parquet\") \\\n",
    "    .mode(\"append\") \\\n",
    "    .save(path_to_save)"
   ]
  },
  {
   "cell_type": "code",
   "execution_count": null,
   "metadata": {},
   "outputs": [],
   "source": [
    "##Hive connection\n",
    "\n",
    "Database = \"ifoodDatabase\"\n",
    "hive_activated = \"unabled\"\n",
    "##connection_hive = \"pandas\"\n",
    "connection_hive = \"pyspark\"\n",
    "\n",
    "if hive_activated == \"enabled\":\n",
    "   \n",
    "   ##example if we are using hive in pyspark\n",
    "   if connection_hive == \"pyspark\":\n",
    "    \n",
    "     ##path on external table using s3a(minio)\n",
    "    create_table_query = '''\n",
    "    CREATE EXTERNAL TABLE IF NOT EXISTS {Database}.taxiIfood (\n",
    "        VendorID BIGINT,\n",
    "        tpep_pickup_datetime TIMESTAMP,\n",
    "        tpep_dropoff_datetime TIMESTAMP,\n",
    "        passenger_count DOUBLE,\n",
    "        total_amount DOUBLE\n",
    "    )\n",
    "    STORED AS PARQUET\n",
    "    LOCATION 's3a://ifood-processo-seletivo/silver/'\n",
    "    '''\n",
    "\n",
    "     ##LOCATION ${path_to_save}\n",
    "\n",
    "    spark.sql(f'USE {Database}') ##double check\n",
    "    spark.sql(create_table_query) \n",
    "    print(\"Created table\")\n",
    "\n",
    "##metastore on thrift://service-sab-hive-metastore:31457 using local example"
   ]
  }
 ],
 "metadata": {
  "kernelspec": {
   "display_name": "safira",
   "language": "python",
   "name": "python3"
  },
  "language_info": {
   "name": "python",
   "version": "3.9.0"
  }
 },
 "nbformat": 4,
 "nbformat_minor": 2
}
