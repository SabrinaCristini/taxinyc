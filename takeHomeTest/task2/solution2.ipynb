{
 "cells": [
  {
   "cell_type": "code",
   "execution_count": null,
   "metadata": {},
   "outputs": [],
   "source": [
    "##spark session e reading file drom s3a(minio)\n",
    "\n",
    "from pyspark.sql import *\n",
    "\n",
    "##Creating spark session\n",
    "spark = SparkSession.builder \\\n",
    "            .appName(\"ifood_2\") \\\n",
    "            .master('local[*]') \\\n",
    "            .config('spark.jars.ivy', \"/app/.ivy2\") \\\n",
    "            .config(\"spark.driver.maxResultSize\", \"50g\") \\\n",
    "            .config(\"spark.hadoop.fs.s3a.endpoint\", \"http://minio-service:9001\") \\\n",
    "            .config(\"spark.hadoop.fs.s3a.access.key\", \"5FCOJ3tSURKM65xXPnW8\") \\\n",
    "            .config(\"spark.hadoop.fs.s3a.secret.key\", \"cOMprohE5zopGpfV8pXNXpIuQQAHsQsX2bEhL4C2\") \\\n",
    "            .config(\"spark.hadoop.fs.s3a.path.style.access\", \"true\") \\\n",
    "            .config(\"spark.hadoop.fs.s3a.impl\", \"org.apache.hadoop.fs.s3a.S3AFileSystem\") \\\n",
    "            .getOrCreate()\n",
    "\n",
    "##Reading file from s3a(minio)\n",
    "read_files_taxi_silver = spark.read \\\n",
    "    .format(\"parquet\") \\\n",
    "    .load(\"s3a://ifood-processo-seletivo/silver/*.parquet\")\n",
    "\n",
    "##parquets temp view \n",
    "read_files_taxi_silver.createOrReplaceTempView(\"temp\")"
   ]
  },
  {
   "cell_type": "markdown",
   "metadata": {},
   "source": [
    "Qual a média de passageiros (passenger_count) por hora e por dia considerando todos os yellow taxis da frota."
   ]
  },
  {
   "cell_type": "code",
   "execution_count": null,
   "metadata": {},
   "outputs": [],
   "source": [
    "##query to hour\n",
    "query_hour = '''\n",
    "SELECT\n",
    "    HOUR(tpep_pickup_datetime) AS hour,\n",
    "    AVG(passenger_count) AS average_passenger_count\n",
    "FROM\n",
    "    temp\n",
    "GROUP BY\n",
    "    HOUR(tpep_pickup_datetime)\n",
    "ORDER BY\n",
    "    hour;\n",
    "'''\n",
    "\n",
    "result_hour = spark.sql(query_hour)\n",
    "##result\n",
    "print(\"passageiro por hora:\")\n",
    "result_hour.show()\n",
    "\n",
    "##query to day\n",
    "query_day = '''\n",
    "SELECT\n",
    "    DAYOFMONTH(tpep_pickup_datetime) AS day,\n",
    "    DAYOFWEEK(tpep_pickup_datetime) AS day_of_week,\n",
    "    AVG(passenger_count) AS average_passenger_count\n",
    "FROM\n",
    "    temp\n",
    "GROUP BY\n",
    "    DAYOFMONTH(tpep_pickup_datetime),\n",
    "    DAYOFWEEK(tpep_pickup_datetime)\n",
    "ORDER BY\n",
    "    day, day_of_week;\n",
    "'''\n",
    "\n",
    "result_day = spark.sql(query_day)\n",
    "print(\"passageiro por dia:\")\n",
    "##result \n",
    "result_day.show()"
   ]
  },
  {
   "cell_type": "markdown",
   "metadata": {},
   "source": [
    "Qual a média de valor total (total_amount) recebido em um mês considerando todos os yellow taxis da frota."
   ]
  },
  {
   "cell_type": "code",
   "execution_count": null,
   "metadata": {},
   "outputs": [],
   "source": [
    "amount_query = '''\n",
    "SELECT\n",
    "    YEAR(tpep_pickup_datetime) AS year,\n",
    "    MONTH(tpep_pickup_datetime) AS month,\n",
    "    AVG(total_amount) AS average_total_amount\n",
    "FROM\n",
    "    temp\n",
    "GROUP BY\n",
    "    YEAR(tpep_pickup_datetime),\n",
    "    MONTH(tpep_pickup_datetime)\n",
    "ORDER BY\n",
    "    year, month;\n",
    "'''\n",
    "\n",
    "result_amount = spark.sql(amount_query)\n",
    "print(\"média do valor total em meses:\")\n",
    "##result\n",
    "result_amount.show()"
   ]
  }
 ],
 "metadata": {
  "language_info": {
   "name": "python"
  }
 },
 "nbformat": 4,
 "nbformat_minor": 2
}
